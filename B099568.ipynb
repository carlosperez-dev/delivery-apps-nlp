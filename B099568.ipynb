{
 "cells": [
  {
   "cell_type": "code",
   "execution_count": 43,
   "id": "053e6b1f",
   "metadata": {},
   "outputs": [],
   "source": [
    "import json\n",
    "import pandas as pd\n",
    "from tqdm import tqdm\n",
    "\n",
    "import seaborn as sns\n",
    "import matplotlib.pyplot as plt\n",
    "\n",
    "from pygments import highlight\n",
    "from pygments.lexers import JsonLexer\n",
    "from pygments.formatters import TerminalFormatter\n",
    "\n",
    "from google_play_scraper import Sort, reviews, app\n",
    "\n",
    "import nltk\n",
    "import pandas as pd\n",
    "from sklearn.utils import shuffle\n",
    "from nltk.tokenize import word_tokenize, sent_tokenize, wordpunct_tokenize, regexp_tokenize, TweetTokenizer\n",
    "from nltk.probability import FreqDist\n",
    "\n",
    "from nltk.corpus import wordnet as wn\n",
    "from nltk.stem import WordNetLemmatizer\n",
    "from nltk.corpus import sentiwordnet as swn"
   ]
  },
  {
   "cell_type": "markdown",
   "id": "adf127b7",
   "metadata": {},
   "source": [
    "From the google play store we have scraped reviews for grocery store apps delivery apps: Tesco, Morrisons, M&S, ASDA, Aldi, Sainbury's and Waitrose. Parameters for scraping were set to 250 for reviews with 1,2,4, and 5 stars and only 150 with 3 stars."
   ]
  },
  {
   "cell_type": "code",
   "execution_count": 45,
   "id": "f3d5b9a7",
   "metadata": {},
   "outputs": [],
   "source": [
    "app_reviews_df = pd.read_csv(\"reviews.csv\")\n",
    "app_infos_df = pd.read_csv(\"apps.csv\")"
   ]
  },
  {
   "cell_type": "markdown",
   "id": "07880fde",
   "metadata": {},
   "source": [
    "## EDA"
   ]
  },
  {
   "cell_type": "markdown",
   "id": "df3e159b",
   "metadata": {},
   "source": [
    "<ol>\n",
    "    <li>Check the number of reviews scraped for each company</li>\n",
    "</ol>"
   ]
  },
  {
   "cell_type": "code",
   "execution_count": 52,
   "id": "89ce9340",
   "metadata": {},
   "outputs": [
    {
     "data": {
      "text/plain": [
       "array(['com.tesco.grocery.view', 'com.morrisons.atm.mobile.android',\n",
       "       'com.marksandspencer.app', 'com.asda.android',\n",
       "       'de.apptiv.business.android.aldi_uk', 'com.sainsburys.gol',\n",
       "       'com.waitrose.groceries'], dtype=object)"
      ]
     },
     "execution_count": 52,
     "metadata": {},
     "output_type": "execute_result"
    }
   ],
   "source": [
    "app_reviews_df['appId'].unique()"
   ]
  },
  {
   "cell_type": "code",
   "execution_count": 65,
   "id": "cec0edea",
   "metadata": {},
   "outputs": [],
   "source": [
    "def check_reviews_per_star(df):\n",
    "    apps = df['appId'].unique()\n",
    "    for app in apps:\n",
    "        name = app.split('.')[1].title() if app != 'de.apptiv.business.android.aldi_uk' else app.split('.')[-1].split('_')[0].title()\n",
    "        print(name, \"reviews per star:\")\n",
    "        stars = df['score'].loc[df['appId'] == app].value_counts()\n",
    "        print(stars)"
   ]
  },
  {
   "cell_type": "code",
   "execution_count": 66,
   "id": "24726b68",
   "metadata": {
    "scrolled": false
   },
   "outputs": [
    {
     "name": "stdout",
     "output_type": "stream",
     "text": [
      "Tesco reviews per star:\n",
      "1    250\n",
      "2    250\n",
      "4    250\n",
      "5    250\n",
      "3    150\n",
      "Name: score, dtype: int64\n",
      "Morrisons reviews per star:\n",
      "1    250\n",
      "5    250\n",
      "2     89\n",
      "4     87\n",
      "3     84\n",
      "Name: score, dtype: int64\n",
      "Marksandspencer reviews per star:\n",
      "1    250\n",
      "2    250\n",
      "4    250\n",
      "5    250\n",
      "3    150\n",
      "Name: score, dtype: int64\n",
      "Asda reviews per star:\n",
      "1    250\n",
      "2    250\n",
      "4    250\n",
      "5    250\n",
      "3    150\n",
      "Name: score, dtype: int64\n",
      "Aldi reviews per star:\n",
      "1    250\n",
      "2    250\n",
      "4    250\n",
      "5    250\n",
      "3    150\n",
      "Name: score, dtype: int64\n",
      "Sainsburys reviews per star:\n",
      "1    250\n",
      "2    250\n",
      "4    250\n",
      "5    250\n",
      "3    150\n",
      "Name: score, dtype: int64\n",
      "Waitrose reviews per star:\n",
      "1    250\n",
      "4    250\n",
      "5    250\n",
      "3    130\n",
      "2    115\n",
      "Name: score, dtype: int64\n"
     ]
    }
   ],
   "source": [
    "check_reviews_per_star(app_reviews_df)"
   ]
  },
  {
   "cell_type": "markdown",
   "id": "d76db3a2",
   "metadata": {},
   "source": [
    "From the reviews, Morrisons and Waitrose scraped less reviess with 3,2, and 4 stars due to availability however at the extremes (1 and 5 stars) it's the same as others - as expected. As we aim to extract recommendations, the 1 star reviews will have vital importance however we proceed with cautions given the lower sample size relative to other apps."
   ]
  },
  {
   "cell_type": "markdown",
   "id": "d6e109ac",
   "metadata": {},
   "source": [
    "<ol start=\"2\">\n",
    "    <li>Check the date for the latest updated of the app and the number of reviews after the date.</li>\n",
    "</ol>"
   ]
  },
  {
   "cell_type": "code",
   "execution_count": 68,
   "id": "5cae4591",
   "metadata": {},
   "outputs": [
    {
     "data": {
      "text/plain": [
       "Index(['title', 'description', 'descriptionHTML', 'summary', 'summaryHTML',\n",
       "       'installs', 'minInstalls', 'score', 'ratings', 'reviews', 'histogram',\n",
       "       'price', 'free', 'currency', 'sale', 'saleTime', 'originalPrice',\n",
       "       'saleText', 'offersIAP', 'inAppProductPrice', 'size', 'androidVersion',\n",
       "       'androidVersionText', 'developer', 'developerId', 'developerEmail',\n",
       "       'developerWebsite', 'developerAddress', 'privacyPolicy',\n",
       "       'developerInternalID', 'genre', 'genreId', 'icon', 'headerImage',\n",
       "       'screenshots', 'video', 'videoImage', 'contentRating',\n",
       "       'contentRatingDescription', 'adSupported', 'containsAds', 'released',\n",
       "       'updated', 'version', 'recentChanges', 'recentChangesHTML',\n",
       "       'editorsChoice', 'similarApps', 'moreByDeveloper', 'appId', 'url'],\n",
       "      dtype='object')"
      ]
     },
     "execution_count": 68,
     "metadata": {},
     "output_type": "execute_result"
    }
   ],
   "source": [
    "app_infos_df.columns"
   ]
  },
  {
   "cell_type": "code",
   "execution_count": 71,
   "id": "b765a9a9",
   "metadata": {},
   "outputs": [
    {
     "data": {
      "text/plain": [
       "0    7.0\n",
       "1    5.0\n",
       "2    6.0\n",
       "3    5.0\n",
       "4    5.0\n",
       "5    5.0\n",
       "6    6.0\n",
       "Name: androidVersion, dtype: float64"
      ]
     },
     "execution_count": 71,
     "metadata": {},
     "output_type": "execute_result"
    }
   ],
   "source": [
    "app_infos_df['androidVersion']"
   ]
  }
 ],
 "metadata": {
  "kernelspec": {
   "display_name": "Python 3 (ipykernel)",
   "language": "python",
   "name": "python3"
  },
  "language_info": {
   "codemirror_mode": {
    "name": "ipython",
    "version": 3
   },
   "file_extension": ".py",
   "mimetype": "text/x-python",
   "name": "python",
   "nbconvert_exporter": "python",
   "pygments_lexer": "ipython3",
   "version": "3.9.7"
  }
 },
 "nbformat": 4,
 "nbformat_minor": 5
}
