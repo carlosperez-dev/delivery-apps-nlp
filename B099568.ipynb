{
 "cells": [
  {
   "cell_type": "code",
   "execution_count": 14,
   "id": "053e6b1f",
   "metadata": {},
   "outputs": [],
   "source": [
    "import json\n",
    "import pandas as pd\n",
    "from tqdm import tqdm\n",
    "\n",
    "import seaborn as sns\n",
    "import matplotlib.pyplot as plt\n",
    "\n",
    "from pygments import highlight\n",
    "from pygments.lexers import JsonLexer\n",
    "from pygments.formatters import TerminalFormatter\n",
    "\n",
    "from google_play_scraper import Sort, reviews, app\n",
    "\n",
    "import nltk\n",
    "import pandas as pd\n",
    "from sklearn.utils import shuffle\n",
    "from nltk.tokenize import word_tokenize, sent_tokenize, wordpunct_tokenize, regexp_tokenize, TweetTokenizer\n",
    "from nltk.probability import FreqDist\n",
    "\n",
    "from nltk.corpus import wordnet as wn\n",
    "from nltk.stem import WordNetLemmatizer\n",
    "from nltk.corpus import sentiwordnet as swn"
   ]
  },
  {
   "cell_type": "markdown",
   "id": "adf127b7",
   "metadata": {},
   "source": [
    "From the google play store we have scraped reviews for grocery store apps delivery apps: Tesco, Morrisons, M&S, ASDA, Aldi, Sainbury's and Waitrose. Parameters for scraping were set to 250 for reviews with 1,2,4, and 5 stars and only 150 with 3 stars."
   ]
  },
  {
   "cell_type": "code",
   "execution_count": 39,
   "id": "f3d5b9a7",
   "metadata": {},
   "outputs": [],
   "source": [
    "app_reviews_df = pd.read_csv(\"src/reviews.csv\")\n",
    "app_infos_df = pd.read_csv(\"src/apps.csv\")"
   ]
  },
  {
   "cell_type": "markdown",
   "id": "07880fde",
   "metadata": {},
   "source": [
    "## EDA"
   ]
  },
  {
   "cell_type": "markdown",
   "id": "df3e159b",
   "metadata": {},
   "source": [
    "<ol>\n",
    "    <li>Check the number of reviews scraped for each company</li>\n",
    "</ol>"
   ]
  },
  {
   "cell_type": "code",
   "execution_count": 309,
   "id": "89ce9340",
   "metadata": {},
   "outputs": [],
   "source": [
    "apps = app_reviews_df['appId'].unique()"
   ]
  },
  {
   "cell_type": "code",
   "execution_count": 41,
   "id": "cec0edea",
   "metadata": {},
   "outputs": [],
   "source": [
    "def check_reviews_per_star(df):\n",
    "    apps = df['appId'].unique()\n",
    "    for app in apps:\n",
    "        name = app.split('.')[1].title() if app != 'de.apptiv.business.android.aldi_uk' else app.split('.')[-1].split('_')[0].title()\n",
    "        print(name, \"reviews per star:\")\n",
    "        stars = df['score'].loc[df['appId'] == app].value_counts()\n",
    "        print(stars)"
   ]
  },
  {
   "cell_type": "code",
   "execution_count": 42,
   "id": "24726b68",
   "metadata": {
    "scrolled": true
   },
   "outputs": [
    {
     "name": "stdout",
     "output_type": "stream",
     "text": [
      "Tesco reviews per star:\n",
      "1    300\n",
      "2    300\n",
      "4    250\n",
      "5    250\n",
      "3    150\n",
      "Name: score, dtype: int64\n",
      "Morrisons reviews per star:\n",
      "1    300\n",
      "5    250\n",
      "2    119\n",
      "4     86\n",
      "3     80\n",
      "Name: score, dtype: int64\n",
      "Marksandspencer reviews per star:\n",
      "1    300\n",
      "2    300\n",
      "4    250\n",
      "5    250\n",
      "3    150\n",
      "Name: score, dtype: int64\n",
      "Asda reviews per star:\n",
      "1    300\n",
      "2    300\n",
      "4    250\n",
      "5    250\n",
      "3    150\n",
      "Name: score, dtype: int64\n",
      "Aldi reviews per star:\n",
      "1    300\n",
      "2    280\n",
      "4    250\n",
      "5    250\n",
      "3    150\n",
      "Name: score, dtype: int64\n",
      "Sainsburys reviews per star:\n",
      "1    300\n",
      "2    300\n",
      "4    250\n",
      "5    250\n",
      "3    150\n",
      "Name: score, dtype: int64\n",
      "Waitrose reviews per star:\n",
      "1    300\n",
      "4    250\n",
      "5    250\n",
      "3    130\n",
      "2    115\n",
      "Name: score, dtype: int64\n"
     ]
    }
   ],
   "source": [
    "check_reviews_per_star(app_reviews_df)"
   ]
  },
  {
   "cell_type": "markdown",
   "id": "d76db3a2",
   "metadata": {},
   "source": [
    "From the reviews, Morrisons and Waitrose scraped less reviess with 3,2, and 4 stars due to availability however at the extremes (1 and 5 stars) it's the same as others - as expected. As we aim to extract recommendations, the 1 star reviews will have vital importance however we proceed with cautions given the lower sample size relative to other apps."
   ]
  },
  {
   "cell_type": "markdown",
   "id": "98c2149d",
   "metadata": {},
   "source": [
    "<ol start='2'>\n",
    "    <li>Check for missing values</li>"
   ]
  },
  {
   "cell_type": "code",
   "execution_count": 278,
   "id": "5d3cc4f5",
   "metadata": {
    "scrolled": true
   },
   "outputs": [
    {
     "name": "stdout",
     "output_type": "stream",
     "text": [
      "Missing values in reviewId : 0\n",
      "Missing values in userName : 0\n",
      "Missing values in userImage : 0\n",
      "Missing values in content : 0\n",
      "Missing values in score : 0\n",
      "Missing values in thumbsUpCount : 0\n",
      "Missing values in reviewCreatedVersion : 762\n",
      "Missing values in at : 0\n",
      "Missing values in replyContent : 7963\n",
      "Missing values in repliedAt : 7963\n",
      "Missing values in sortOrder : 0\n",
      "Missing values in appId : 0\n"
     ]
    }
   ],
   "source": [
    "for column in app_reviews_df.columns:\n",
    "    print(\"Missing values in\", column, \": {}\".format(app_reviews_df[column].isnull().sum()))"
   ]
  },
  {
   "cell_type": "code",
   "execution_count": 296,
   "id": "beba15e4",
   "metadata": {
    "scrolled": true
   },
   "outputs": [
    {
     "data": {
      "text/html": [
       "<div>\n",
       "<style scoped>\n",
       "    .dataframe tbody tr th:only-of-type {\n",
       "        vertical-align: middle;\n",
       "    }\n",
       "\n",
       "    .dataframe tbody tr th {\n",
       "        vertical-align: top;\n",
       "    }\n",
       "\n",
       "    .dataframe thead th {\n",
       "        text-align: right;\n",
       "    }\n",
       "</style>\n",
       "<table border=\"1\" class=\"dataframe\">\n",
       "  <thead>\n",
       "    <tr style=\"text-align: right;\">\n",
       "      <th></th>\n",
       "      <th>reviewId</th>\n",
       "      <th>userName</th>\n",
       "      <th>userImage</th>\n",
       "      <th>content</th>\n",
       "      <th>score</th>\n",
       "      <th>thumbsUpCount</th>\n",
       "      <th>reviewCreatedVersion</th>\n",
       "      <th>at</th>\n",
       "      <th>replyContent</th>\n",
       "      <th>repliedAt</th>\n",
       "      <th>sortOrder</th>\n",
       "      <th>appId</th>\n",
       "    </tr>\n",
       "  </thead>\n",
       "  <tbody>\n",
       "    <tr>\n",
       "      <th>0</th>\n",
       "      <td>gp:AOqpTOHoLYWCleX8HM-fJST-nS6_Q7nRCKgUfcXviZW...</td>\n",
       "      <td>Joyce Jamieson</td>\n",
       "      <td>https://play-lh.googleusercontent.com/a/AATXAJ...</td>\n",
       "      <td>Found this confusing and difficult</td>\n",
       "      <td>1</td>\n",
       "      <td>0</td>\n",
       "      <td>19.29.0</td>\n",
       "      <td>2022-03-31 16:48:34</td>\n",
       "      <td>NaN</td>\n",
       "      <td>NaN</td>\n",
       "      <td>newest</td>\n",
       "      <td>com.tesco.grocery.view</td>\n",
       "    </tr>\n",
       "    <tr>\n",
       "      <th>1</th>\n",
       "      <td>gp:AOqpTOEALmLSsWoRa5iIEtmENfRtPkvS3O-W7NvitLW...</td>\n",
       "      <td>Alistair Charles</td>\n",
       "      <td>https://play-lh.googleusercontent.com/a/AATXAJ...</td>\n",
       "      <td>Rubbish app. Forgets changes to orders.</td>\n",
       "      <td>1</td>\n",
       "      <td>0</td>\n",
       "      <td>19.29.0</td>\n",
       "      <td>2022-03-30 21:37:56</td>\n",
       "      <td>NaN</td>\n",
       "      <td>NaN</td>\n",
       "      <td>newest</td>\n",
       "      <td>com.tesco.grocery.view</td>\n",
       "    </tr>\n",
       "    <tr>\n",
       "      <th>2</th>\n",
       "      <td>gp:AOqpTOGosMLyacp8xUArioSjY5_628L0xxBJ3BmgTtC...</td>\n",
       "      <td>John Hirst</td>\n",
       "      <td>https://play-lh.googleusercontent.com/a/AATXAJ...</td>\n",
       "      <td>Rubbish, constantly asking to resign in</td>\n",
       "      <td>1</td>\n",
       "      <td>0</td>\n",
       "      <td>19.29.0</td>\n",
       "      <td>2022-03-30 17:31:00</td>\n",
       "      <td>NaN</td>\n",
       "      <td>NaN</td>\n",
       "      <td>newest</td>\n",
       "      <td>com.tesco.grocery.view</td>\n",
       "    </tr>\n",
       "    <tr>\n",
       "      <th>4</th>\n",
       "      <td>gp:AOqpTOGsEOuB5kASf1CwHBp8-DfEzUIjwppVtIJJL9e...</td>\n",
       "      <td>Hey Boo</td>\n",
       "      <td>https://play-lh.googleusercontent.com/a/AATXAJ...</td>\n",
       "      <td>Got to be a better way to do it, I search for ...</td>\n",
       "      <td>1</td>\n",
       "      <td>0</td>\n",
       "      <td>19.29.0</td>\n",
       "      <td>2022-03-30 08:11:54</td>\n",
       "      <td>NaN</td>\n",
       "      <td>NaN</td>\n",
       "      <td>newest</td>\n",
       "      <td>com.tesco.grocery.view</td>\n",
       "    </tr>\n",
       "    <tr>\n",
       "      <th>5</th>\n",
       "      <td>gp:AOqpTOHbEWaEPaarmEliv8pp21O7EmHJ618AM_Etw9b...</td>\n",
       "      <td>Stephen Wren</td>\n",
       "      <td>https://play-lh.googleusercontent.com/a-/AOh14...</td>\n",
       "      <td>Negative stars! World's most annoying app. End...</td>\n",
       "      <td>1</td>\n",
       "      <td>4</td>\n",
       "      <td>19.29.0</td>\n",
       "      <td>2022-03-29 22:11:17</td>\n",
       "      <td>NaN</td>\n",
       "      <td>NaN</td>\n",
       "      <td>newest</td>\n",
       "      <td>com.tesco.grocery.view</td>\n",
       "    </tr>\n",
       "  </tbody>\n",
       "</table>\n",
       "</div>"
      ],
      "text/plain": [
       "                                            reviewId          userName  \\\n",
       "0  gp:AOqpTOHoLYWCleX8HM-fJST-nS6_Q7nRCKgUfcXviZW...    Joyce Jamieson   \n",
       "1  gp:AOqpTOEALmLSsWoRa5iIEtmENfRtPkvS3O-W7NvitLW...  Alistair Charles   \n",
       "2  gp:AOqpTOGosMLyacp8xUArioSjY5_628L0xxBJ3BmgTtC...        John Hirst   \n",
       "4  gp:AOqpTOGsEOuB5kASf1CwHBp8-DfEzUIjwppVtIJJL9e...           Hey Boo   \n",
       "5  gp:AOqpTOHbEWaEPaarmEliv8pp21O7EmHJ618AM_Etw9b...      Stephen Wren   \n",
       "\n",
       "                                           userImage  \\\n",
       "0  https://play-lh.googleusercontent.com/a/AATXAJ...   \n",
       "1  https://play-lh.googleusercontent.com/a/AATXAJ...   \n",
       "2  https://play-lh.googleusercontent.com/a/AATXAJ...   \n",
       "4  https://play-lh.googleusercontent.com/a/AATXAJ...   \n",
       "5  https://play-lh.googleusercontent.com/a-/AOh14...   \n",
       "\n",
       "                                             content  score  thumbsUpCount  \\\n",
       "0                 Found this confusing and difficult      1              0   \n",
       "1            Rubbish app. Forgets changes to orders.      1              0   \n",
       "2            Rubbish, constantly asking to resign in      1              0   \n",
       "4  Got to be a better way to do it, I search for ...      1              0   \n",
       "5  Negative stars! World's most annoying app. End...      1              4   \n",
       "\n",
       "  reviewCreatedVersion                   at replyContent repliedAt sortOrder  \\\n",
       "0              19.29.0  2022-03-31 16:48:34          NaN       NaN    newest   \n",
       "1              19.29.0  2022-03-30 21:37:56          NaN       NaN    newest   \n",
       "2              19.29.0  2022-03-30 17:31:00          NaN       NaN    newest   \n",
       "4              19.29.0  2022-03-30 08:11:54          NaN       NaN    newest   \n",
       "5              19.29.0  2022-03-29 22:11:17          NaN       NaN    newest   \n",
       "\n",
       "                    appId  \n",
       "0  com.tesco.grocery.view  \n",
       "1  com.tesco.grocery.view  \n",
       "2  com.tesco.grocery.view  \n",
       "4  com.tesco.grocery.view  \n",
       "5  com.tesco.grocery.view  "
      ]
     },
     "execution_count": 296,
     "metadata": {},
     "output_type": "execute_result"
    }
   ],
   "source": [
    "app_reviews_df.loc[app_reviews_df['reviewCreatedVersion'] == '19.29.0'].head()"
   ]
  },
  {
   "cell_type": "markdown",
   "id": "55295552",
   "metadata": {},
   "source": [
    "Further inspection shows that 'reviewCreatedVersion' is the version of the app the user reviewed. Therefore, we can potentially narrow down the comments by the version of the app rather than dates. Alternatively, I can use the date as a proxy for the created version so will keep those. Regarding the replyContent and repliedAt, doesn't really matter as these just represent whether the company replied or not but worth visualising just in case. "
   ]
  },
  {
   "cell_type": "code",
   "execution_count": 307,
   "id": "703f6427",
   "metadata": {
    "scrolled": true
   },
   "outputs": [
    {
     "data": {
      "text/plain": [
       "com.waitrose.groceries                101\n",
       "de.apptiv.business.android.aldi_uk     25\n",
       "com.marksandspencer.app                12\n",
       "com.tesco.grocery.view                  4\n",
       "com.sainsburys.gol                      3\n",
       "com.morrisons.mobile.android            2\n",
       "Name: appId, dtype: int64"
      ]
     },
     "execution_count": 307,
     "metadata": {},
     "output_type": "execute_result"
    }
   ],
   "source": [
    "app_reviews_df.loc[app_reviews_df['replyContent'].notnull()]['appId'].value_counts()"
   ]
  },
  {
   "cell_type": "markdown",
   "id": "9913573b",
   "metadata": {},
   "source": [
    "We can see that waitrose is significantly better at replying to comment, with the next company being aldi (a budget supermaket) surprisingly. Aldi, on the other hand, has not replied to anyone. Next questions is, are they replying to good reviews or bad reviews?"
   ]
  },
  {
   "cell_type": "code",
   "execution_count": 314,
   "id": "ded508e2",
   "metadata": {
    "scrolled": true
   },
   "outputs": [
    {
     "name": "stdout",
     "output_type": "stream",
     "text": [
      "com.tesco.grocery.view\n",
      "4    2\n",
      "2    1\n",
      "3    1\n",
      "Name: score, dtype: int64\n",
      "\n",
      "\n",
      "com.morrisons.mobile.android\n",
      "4    1\n",
      "5    1\n",
      "Name: score, dtype: int64\n",
      "\n",
      "\n",
      "com.marksandspencer.app\n",
      "2    9\n",
      "1    2\n",
      "4    1\n",
      "Name: score, dtype: int64\n",
      "\n",
      "\n",
      "com.asda.android\n",
      "Series([], Name: score, dtype: int64)\n",
      "\n",
      "\n",
      "de.apptiv.business.android.aldi_uk\n",
      "2    22\n",
      "3     3\n",
      "Name: score, dtype: int64\n",
      "\n",
      "\n",
      "com.sainsburys.gol\n",
      "2    1\n",
      "4    1\n",
      "5    1\n",
      "Name: score, dtype: int64\n",
      "\n",
      "\n",
      "com.waitrose.groceries\n",
      "1    56\n",
      "2    21\n",
      "3    19\n",
      "4     5\n",
      "Name: score, dtype: int64\n",
      "\n",
      "\n"
     ]
    }
   ],
   "source": [
    "for app in apps:\n",
    "    print(app)\n",
    "    print(app_reviews_df.loc[(app_reviews_df['appId'] == app) & (app_reviews_df['replyContent'].notnull() == True)]['score'].value_counts())\n",
    "    print('\\n')    "
   ]
  },
  {
   "cell_type": "markdown",
   "id": "ec1adbc5",
   "metadata": {},
   "source": [
    "Waitrose mainly responds to low reviews <= 3 stars with most of the responses going to 1 star, M&S responds mainly to 2 and 1 stars, morrisons loves the praise only 4&5 stars. Aldi no reply to 1 stars but only to 2 and 3 stars. Tesco likes praise but has responded to a (1) 2 star and (1) 3 star review. Sainsburys also likes praise with 2 out of 3 responses going to 4 and 5 stars."
   ]
  },
  {
   "cell_type": "markdown",
   "id": "7631e58d",
   "metadata": {},
   "source": [
    "<ul>\n",
    "    <li>Number of words per comment on avg.</li>\n",
    "    <li>Number of sentences per comment on avg.</li>\n",
    "</ul>"
   ]
  },
  {
   "cell_type": "code",
   "execution_count": 326,
   "id": "5a4e28bf",
   "metadata": {},
   "outputs": [
    {
     "name": "stdout",
     "output_type": "stream",
     "text": [
      "There is approx. 1.92 sentences per review.\n"
     ]
    }
   ],
   "source": [
    "def sentence_segmentation(df):\n",
    "    reviews_in_sents = []\n",
    "    number_of_sents = 0\n",
    "    for review in df['content']:\n",
    "        sentences = nltk.sent_tokenize(review)\n",
    "        number_of_sents += len(sentences)\n",
    "        reviews_in_sents.append(sentences)\n",
    "    return reviews_in_sents, number_of_sents\n",
    "\n",
    "reviews_in_sents, number_of_sents = sentence_segmentation(app_reviews_df)\n",
    "print(f'There is approx. {round(number_of_sents/len(reviews_in_sents),2)} sentences per review.')"
   ]
  },
  {
   "cell_type": "code",
   "execution_count": 328,
   "id": "7252a1b5",
   "metadata": {},
   "outputs": [],
   "source": [
    "app_reviews_df['reviews_in_sents'] = reviews_in_sents"
   ]
  },
  {
   "cell_type": "markdown",
   "id": "d6e109ac",
   "metadata": {},
   "source": [
    "<ol start=\"3\">\n",
    "    <li>Check the date for the latest updated of the app and the number of reviews after the date.</li>\n",
    "    <ul>\n",
    "        <li>Tesco: <b>30 March 2022</b></li>\n",
    "        <li>Morrison: <b>9 March 2022</b></li>\n",
    "        <li>Marks and Spencers: <b>24 March 2022</b></li>    \n",
    "        <li>ASDA: <b>29 March 2022</b></li>    \n",
    "        <li>ALDI: <b>28 February 2022</b></li>    \n",
    "        <li>Sainsbury's: <b>25 March 2022</b></li>    \n",
    "        <li>Waitrose: <b>25 March 2022</b></li>\n",
    "    </ul>\n",
    "    <br>\n",
    "   <li>Check what the recent changes made are.</li>\n",
    "</ol>\n"
   ]
  },
  {
   "cell_type": "code",
   "execution_count": 53,
   "id": "4308ae48",
   "metadata": {
    "scrolled": true
   },
   "outputs": [
    {
     "name": "stdout",
     "output_type": "stream",
     "text": [
      "Tesco Grocery & Clubcard changes : nan\n",
      "Morrisons Groceries changes : We've made a few under-the-hood improvements for performance and security, and we've squashed a few bugs too.\n",
      "M&S - Fashion, Food & Homeware changes : We’re constantly making improvements to the M&S app based on your feedback.\r\n",
      "Make sure you update to benefit from the latest features.\n",
      "ASDA changes : • Bug fixes and performance enhancements.\n",
      "ALDI UK changes : We have made it easier for app users to view and purchase our latest grocery offers.\n",
      "Sainsbury's Groceries changes : nan\n",
      "Waitrose & Partners changes : nan\n"
     ]
    }
   ],
   "source": [
    "i = 0\n",
    "for changes in app_infos_df.iloc[:, 44]:\n",
    "    name = app_infos_df['title'][i]\n",
    "    print(name,'changes :', changes)\n",
    "    i+= 1"
   ]
  },
  {
   "cell_type": "code",
   "execution_count": 55,
   "id": "bf584f49",
   "metadata": {},
   "outputs": [
    {
     "data": {
      "text/html": [
       "<div>\n",
       "<style scoped>\n",
       "    .dataframe tbody tr th:only-of-type {\n",
       "        vertical-align: middle;\n",
       "    }\n",
       "\n",
       "    .dataframe tbody tr th {\n",
       "        vertical-align: top;\n",
       "    }\n",
       "\n",
       "    .dataframe thead th {\n",
       "        text-align: right;\n",
       "    }\n",
       "</style>\n",
       "<table border=\"1\" class=\"dataframe\">\n",
       "  <thead>\n",
       "    <tr style=\"text-align: right;\">\n",
       "      <th></th>\n",
       "      <th>recentChanges</th>\n",
       "      <th>recentChangesHTML</th>\n",
       "    </tr>\n",
       "  </thead>\n",
       "  <tbody>\n",
       "    <tr>\n",
       "      <th>0</th>\n",
       "      <td>NaN</td>\n",
       "      <td>NaN</td>\n",
       "    </tr>\n",
       "    <tr>\n",
       "      <th>1</th>\n",
       "      <td>We've made a few under-the-hood improvements f...</td>\n",
       "      <td>We&amp;#39;ve made a few under-the-hood improvemen...</td>\n",
       "    </tr>\n",
       "    <tr>\n",
       "      <th>2</th>\n",
       "      <td>We’re constantly making improvements to the M&amp;...</td>\n",
       "      <td>We’re constantly making improvements to the M&amp;...</td>\n",
       "    </tr>\n",
       "    <tr>\n",
       "      <th>3</th>\n",
       "      <td>• Bug fixes and performance enhancements.</td>\n",
       "      <td>• Bug fixes and performance enhancements.</td>\n",
       "    </tr>\n",
       "    <tr>\n",
       "      <th>4</th>\n",
       "      <td>We have made it easier for app users to view a...</td>\n",
       "      <td>We have made it easier for app users to view a...</td>\n",
       "    </tr>\n",
       "    <tr>\n",
       "      <th>5</th>\n",
       "      <td>NaN</td>\n",
       "      <td>NaN</td>\n",
       "    </tr>\n",
       "    <tr>\n",
       "      <th>6</th>\n",
       "      <td>NaN</td>\n",
       "      <td>NaN</td>\n",
       "    </tr>\n",
       "  </tbody>\n",
       "</table>\n",
       "</div>"
      ],
      "text/plain": [
       "                                       recentChanges  \\\n",
       "0                                                NaN   \n",
       "1  We've made a few under-the-hood improvements f...   \n",
       "2  We’re constantly making improvements to the M&...   \n",
       "3          • Bug fixes and performance enhancements.   \n",
       "4  We have made it easier for app users to view a...   \n",
       "5                                                NaN   \n",
       "6                                                NaN   \n",
       "\n",
       "                                   recentChangesHTML  \n",
       "0                                                NaN  \n",
       "1  We&#39;ve made a few under-the-hood improvemen...  \n",
       "2  We’re constantly making improvements to the M&...  \n",
       "3          • Bug fixes and performance enhancements.  \n",
       "4  We have made it easier for app users to view a...  \n",
       "5                                                NaN  \n",
       "6                                                NaN  "
      ]
     },
     "execution_count": 55,
     "metadata": {},
     "output_type": "execute_result"
    }
   ],
   "source": [
    "app_infos_df.iloc[:, 44:46]"
   ]
  },
  {
   "cell_type": "markdown",
   "id": "2de2865f",
   "metadata": {},
   "source": [
    "From the notes pertaining to the recent changes implemented to the apps, it's unclear if the existing reviews have been analysed as part of the process to create/improve features hence it will be difficult to know when an issue has been addressed by a new version of the app. In addittion, following the dates in which the apps were last updated we can't single out issue which are still present in the current version due to the lack of reviews from the date of update."
   ]
  },
  {
   "cell_type": "markdown",
   "id": "49cc7da8",
   "metadata": {},
   "source": [
    "<ol start=\"5\">\n",
    "    <li>Check the date of the earliest review for each company.</li>\n",
    "</ol>"
   ]
  },
  {
   "cell_type": "code",
   "execution_count": 231,
   "id": "4d471927",
   "metadata": {},
   "outputs": [
    {
     "name": "stdout",
     "output_type": "stream",
     "text": [
      "Tesco : 2021-10-18 20:21:20\n",
      "Morrisons : 2013-12-23 21:30:41\n",
      "Marksandspencer : 2019-12-24 15:49:00\n",
      "Asda : 2020-01-30 07:08:11\n",
      "Aldi : 2011-09-20 20:07:32\n",
      "Sainsburys : 2020-07-15 08:26:40\n",
      "Waitrose : 2018-11-01 13:40:30\n"
     ]
    }
   ],
   "source": [
    "app_reviews_df['appId'].unique()\n",
    "for app in app_reviews_df['appId'].unique():\n",
    "    name = app.split('.')[1].title() if app != 'de.apptiv.business.android.aldi_uk' else app.split('.')[-1].split('_')[0].title()\n",
    "    date = app_reviews_df.loc[app_reviews_df['appId'] == app]['at'].min()  \n",
    "    #print(type(date))\n",
    "    print(name,':',date)"
   ]
  },
  {
   "cell_type": "markdown",
   "id": "f537c0c1",
   "metadata": {},
   "source": [
    "Given that some apps have reviews as early as 2011, and given the lack of infomration related to information on changes made per version <b>I will narrow down the comments per company to include a maximum of the last 12 months.</b>"
   ]
  },
  {
   "cell_type": "markdown",
   "id": "6453dce6",
   "metadata": {},
   "source": [
    "<ol start=\"6\">\n",
    "    <li>Check the comment with the most upvotes.</li>\n",
    "</ol>"
   ]
  },
  {
   "cell_type": "code",
   "execution_count": 225,
   "id": "0853f546",
   "metadata": {
    "scrolled": true
   },
   "outputs": [
    {
     "name": "stdout",
     "output_type": "stream",
     "text": [
      "Tesco\n",
      "Date published: 2022-01-09      119 likes\n",
      "Using favourites to shop is an issue. You cannot delete items from the list if you no longer need them, meaning the list becomes very long. Just recently it has begun to drop out of favourites, forcing you to go through the list several times to complete the order - which is frustrating. This is still not fixed months later. Update - still can't delete items, still keeps dropping out of favourites, forcing you to go through the list several times to complete the order.    1\n",
      "Name: content, dtype: int64\n",
      "\n",
      "\n",
      "Morrisons\n",
      "Date published: 2021-04-13      188 likes\n",
      "UPDATE: seems to work now, for me. No hint at which of the two Morrisons groceries apps you need. The app descriptions say it depends where you are, but no. This app shows my orders (placed on the website), shopping lists, account details, etc; the other (green icon) logs me in but shows I have no address, no order - no account in other words. By CHANCE, I tried this one first so was spared confusion. I'll stick with the website just to be on the safe side; the apps still seem far from reliable.    1\n",
      "Name: content, dtype: int64\n",
      "\n",
      "\n",
      "Marksandspencer\n",
      "Date published: 2022-03-03      307 likes\n",
      "Offers section unusable. You can click to add offers, but there is no way to view them. You drag downwards from near the bottom for the tab to pop up, and you can see half of the top offer. Trying to scroll the offer up to read it minimises the tab again. Worst design I've seen in ages. There must be some secret method to view these offers that I am not aware of, as this surely would have been fixed by now. Please share the secret!    1\n",
      "Name: content, dtype: int64\n",
      "\n",
      "\n",
      "Asda\n",
      "Date published: 2022-03-01      91 likes\n",
      "Update: Better but could be improve Products in \"Your Trolley\" are grouped randomly even if you choose \"Departments View\". When searching for items using the search box, you can't see what you have typed. NEW PROBLEM, a useless banner telling you about alternative producers is taking up space when searching through favourite items.    1\n",
      "Name: content, dtype: int64\n",
      "\n",
      "\n",
      "Aldi\n",
      "Date published: 2021-11-04      142 likes\n",
      "Great app. Especially useful during pandemic. Two points to improve app. 1) wish you could star or bookmark items. 2) also be able to filter in-store items only. I have made mistake of buying two items full price and then when Ive gone shopping the same items were half price in store. But that's the chance you take. I was isolating so wasnt going regularly to store. When I do I would monitor certain products to see if they would be reduced.    1\n",
      "Name: content, dtype: int64\n",
      "\n",
      "\n",
      "Sainsburys\n",
      "Date published: 2021-10-25      52 likes\n",
      "We used to use this app for our regular shop but it seems to be getting more and more glitchy. To the point where I spent ages booking a slot, filling my basket, only to have a constant loading circle when trying to pay. When refreshing the app, I found it hadn't even acknowledged the booking of the slot never mind the basket. Please sort this out ASAP, surely this is a critical part of your service now? I'll be going to a competitor with a good app in the meantime.    1\n",
      "Name: content, dtype: int64\n",
      "\n",
      "\n",
      "Waitrose\n",
      "Date published: 2022-03-05      137 likes\n",
      "Useless. I'm supposed to use the app to access 'my offers', but they're not shown in the app. I have to access them via the web site instead. So now I need to show the My Waitrose card, then have to get out the phone, log into the web site, navigate to the right page and scan the phone to get an offer. Hopeless, the system was better years ago, M&S can do it properly with their Sparks card, Tesco via their Clubcard. If you don't want to give offers, just stop them entirely, don't just make them so hard to access we don't bother.    1\n",
      "Name: content, dtype: int64\n",
      "\n",
      "\n"
     ]
    }
   ],
   "source": [
    "app_reviews_df['appId'].unique()\n",
    "for app in app_reviews_df['appId'].unique():\n",
    "    name = app.split('.')[1].title() if app != 'de.apptiv.business.android.aldi_uk' else app.split('.')[-1].split('_')[0].title()\n",
    "    votes = app_reviews_df.loc[app_reviews_df['appId'] == app]['thumbsUpCount'].max()  \n",
    "    review = app_reviews_df.loc[(app_reviews_df[\"appId\"] == app) & (app_reviews_df[\"thumbsUpCount\"] == votes), 'content'].value_counts()\n",
    "    idx = app_reviews_df.loc[(app_reviews_df[\"appId\"] == app) & (app_reviews_df[\"thumbsUpCount\"] == votes), 'content'].index[0]\n",
    "    date = app_reviews_df['at'][idx].split(' ')[0]\n",
    "    print(name)\n",
    "    print('Date published:', date, '    ', votes, 'likes' )\n",
    "    print(review)\n",
    "    print('\\n')"
   ]
  },
  {
   "cell_type": "markdown",
   "id": "a6c47656",
   "metadata": {},
   "source": [
    "In the case of Tesco (January), Marks and Spencers (March), Asda (March), and Waitrose (March) the most liked comments are all as of 2022 i.e. recent issues. On the other hand, Sainsbury's (October), Aldi (November), and Morrisons (April) are all from 2021. <br><b>Further investigation required, perhaps look at the most liked comment in the last 3 or 6 months only</b>"
   ]
  }
 ],
 "metadata": {
  "kernelspec": {
   "display_name": "Python 3 (ipykernel)",
   "language": "python",
   "name": "python3"
  },
  "language_info": {
   "codemirror_mode": {
    "name": "ipython",
    "version": 3
   },
   "file_extension": ".py",
   "mimetype": "text/x-python",
   "name": "python",
   "nbconvert_exporter": "python",
   "pygments_lexer": "ipython3",
   "version": "3.9.7"
  }
 },
 "nbformat": 4,
 "nbformat_minor": 5
}
